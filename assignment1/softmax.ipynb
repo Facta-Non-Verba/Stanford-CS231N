{
 "cells": [
  {
   "cell_type": "markdown",
   "metadata": {},
   "source": [
    "# Softmax exercise\n",
    "\n",
    "*Complete and hand in this completed worksheet (including its outputs and any supporting code outside of the worksheet) with your assignment submission. For more details see the [assignments page](http://vision.stanford.edu/teaching/cs231n/assignments.html) on the course website.*\n",
    "\n",
    "This exercise is analogous to the SVM exercise. You will:\n",
    "\n",
    "- implement a fully-vectorized **loss function** for the Softmax classifier\n",
    "- implement the fully-vectorized expression for its **analytic gradient**\n",
    "- **check your implementation** with numerical gradient\n",
    "- use a validation set to **tune the learning rate and regularization** strength\n",
    "- **optimize** the loss function with **SGD**\n",
    "- **visualize** the final learned weights\n"
   ]
  },
  {
   "cell_type": "code",
   "execution_count": 1,
   "metadata": {},
   "outputs": [],
   "source": [
    "import random\n",
    "import numpy as np\n",
    "from cs231n.data_utils import load_CIFAR10\n",
    "import matplotlib.pyplot as plt\n",
    "\n",
    "from __future__ import print_function\n",
    "\n",
    "%matplotlib inline\n",
    "plt.rcParams['figure.figsize'] = (10.0, 8.0) # set default size of plots\n",
    "plt.rcParams['image.interpolation'] = 'nearest'\n",
    "plt.rcParams['image.cmap'] = 'gray'\n",
    "\n",
    "# for auto-reloading extenrnal modules\n",
    "# see http://stackoverflow.com/questions/1907993/autoreload-of-modules-in-ipython\n",
    "%load_ext autoreload\n",
    "%autoreload 2"
   ]
  },
  {
   "cell_type": "code",
   "execution_count": 2,
   "metadata": {},
   "outputs": [
    {
     "name": "stdout",
     "output_type": "stream",
     "text": [
      "Train data shape:  (49000, 3073)\n",
      "Train labels shape:  (49000,)\n",
      "Validation data shape:  (1000, 3073)\n",
      "Validation labels shape:  (1000,)\n",
      "Test data shape:  (1000, 3073)\n",
      "Test labels shape:  (1000,)\n",
      "dev data shape:  (500, 3073)\n",
      "dev labels shape:  (500,)\n"
     ]
    }
   ],
   "source": [
    "def get_CIFAR10_data(num_training=49000, num_validation=1000, num_test=1000, num_dev=500):\n",
    "    \"\"\"\n",
    "    Load the CIFAR-10 dataset from disk and perform preprocessing to prepare\n",
    "    it for the linear classifier. These are the same steps as we used for the\n",
    "    SVM, but condensed to a single function.  \n",
    "    \"\"\"\n",
    "    # Load the raw CIFAR-10 data\n",
    "    cifar10_dir = 'cs231n/datasets/cifar-10-batches-py'\n",
    "    X_train, y_train, X_test, y_test = load_CIFAR10(cifar10_dir)\n",
    "    \n",
    "    # subsample the data\n",
    "    mask = list(range(num_training, num_training + num_validation))\n",
    "    X_val = X_train[mask]\n",
    "    y_val = y_train[mask]\n",
    "    mask = list(range(num_training))\n",
    "    X_train = X_train[mask]\n",
    "    y_train = y_train[mask]\n",
    "    mask = list(range(num_test))\n",
    "    X_test = X_test[mask]\n",
    "    y_test = y_test[mask]\n",
    "    mask = np.random.choice(num_training, num_dev, replace=False)\n",
    "    X_dev = X_train[mask]\n",
    "    y_dev = y_train[mask]\n",
    "    \n",
    "    # Preprocessing: reshape the image data into rows\n",
    "    X_train = np.reshape(X_train, (X_train.shape[0], -1))\n",
    "    X_val = np.reshape(X_val, (X_val.shape[0], -1))\n",
    "    X_test = np.reshape(X_test, (X_test.shape[0], -1))\n",
    "    X_dev = np.reshape(X_dev, (X_dev.shape[0], -1))\n",
    "    \n",
    "    # Normalize the data: subtract the mean image\n",
    "    mean_image = np.mean(X_train, axis = 0)\n",
    "    X_train -= mean_image\n",
    "    X_val -= mean_image\n",
    "    X_test -= mean_image\n",
    "    X_dev -= mean_image\n",
    "    \n",
    "    # add bias dimension and transform into columns\n",
    "    X_train = np.hstack([X_train, np.ones((X_train.shape[0], 1))])\n",
    "    X_val = np.hstack([X_val, np.ones((X_val.shape[0], 1))])\n",
    "    X_test = np.hstack([X_test, np.ones((X_test.shape[0], 1))])\n",
    "    X_dev = np.hstack([X_dev, np.ones((X_dev.shape[0], 1))])\n",
    "    \n",
    "    return X_train, y_train, X_val, y_val, X_test, y_test, X_dev, y_dev\n",
    "\n",
    "\n",
    "# Invoke the above function to get our data.\n",
    "X_train, y_train, X_val, y_val, X_test, y_test, X_dev, y_dev = get_CIFAR10_data()\n",
    "print('Train data shape: ', X_train.shape)\n",
    "print('Train labels shape: ', y_train.shape)\n",
    "print('Validation data shape: ', X_val.shape)\n",
    "print('Validation labels shape: ', y_val.shape)\n",
    "print('Test data shape: ', X_test.shape)\n",
    "print('Test labels shape: ', y_test.shape)\n",
    "print('dev data shape: ', X_dev.shape)\n",
    "print('dev labels shape: ', y_dev.shape)"
   ]
  },
  {
   "cell_type": "markdown",
   "metadata": {},
   "source": [
    "## Softmax Classifier\n",
    "\n",
    "Your code for this section will all be written inside **cs231n/classifiers/softmax.py**. \n"
   ]
  },
  {
   "cell_type": "code",
   "execution_count": 6,
   "metadata": {},
   "outputs": [
    {
     "name": "stdout",
     "output_type": "stream",
     "text": [
      "loss: 2.402241\n",
      "sanity check: 2.302585\n"
     ]
    }
   ],
   "source": [
    "# First implement the naive softmax loss function with nested loops.\n",
    "# Open the file cs231n/classifiers/softmax.py and implement the\n",
    "# softmax_loss_naive function.\n",
    "\n",
    "from cs231n.classifiers.softmax import softmax_loss_naive\n",
    "import time\n",
    "\n",
    "# Generate a random softmax weight matrix and use it to compute the loss.\n",
    "W = np.random.randn(3073, 10) * 0.0001\n",
    "loss, grad = softmax_loss_naive(W, X_dev, y_dev, 0.0)\n",
    "\n",
    "# As a rough sanity check, our loss should be something close to -log(0.1).\n",
    "print('loss: %f' % loss)\n",
    "print('sanity check: %f' % (-np.log(0.1)))"
   ]
  },
  {
   "cell_type": "markdown",
   "metadata": {},
   "source": [
    "## Inline Question 1:\n",
    "Why do we expect our loss to be close to -log(0.1)? Explain briefly.**\n",
    "\n",
    "**Your answer:** *Fill this in*\n"
   ]
  },
  {
   "cell_type": "code",
   "execution_count": 10,
   "metadata": {},
   "outputs": [
    {
     "name": "stdout",
     "output_type": "stream",
     "text": [
      "numerical: 1.071483 analytic: 1.071483, relative error: 4.141038e-08\n",
      "numerical: 1.577377 analytic: 1.577377, relative error: 1.589262e-08\n",
      "numerical: -1.106498 analytic: -1.106498, relative error: 4.339686e-09\n",
      "numerical: 2.502772 analytic: 2.502772, relative error: 5.524651e-09\n",
      "numerical: 2.838144 analytic: 2.838144, relative error: 7.886915e-09\n",
      "numerical: 2.458289 analytic: 2.458289, relative error: 2.265416e-08\n",
      "numerical: -0.217539 analytic: -0.217539, relative error: 6.416320e-08\n",
      "numerical: -0.440589 analytic: -0.440589, relative error: 2.054872e-08\n",
      "numerical: -3.116815 analytic: -3.116815, relative error: 9.098110e-09\n",
      "numerical: -4.212509 analytic: -4.212509, relative error: 1.148793e-08\n",
      "numerical: 0.032256 analytic: 0.032256, relative error: 8.061759e-07\n",
      "numerical: 0.760888 analytic: 0.760888, relative error: 1.437285e-08\n",
      "numerical: 1.886865 analytic: 1.886864, relative error: 4.028228e-08\n",
      "numerical: 1.588323 analytic: 1.588323, relative error: 3.212995e-08\n",
      "numerical: 0.259580 analytic: 0.259580, relative error: 2.929538e-07\n",
      "numerical: 1.219586 analytic: 1.219586, relative error: 1.406582e-08\n",
      "numerical: 3.339388 analytic: 3.339388, relative error: 1.118985e-08\n",
      "numerical: 4.465483 analytic: 4.465483, relative error: 1.460632e-09\n",
      "numerical: -2.278403 analytic: -2.278403, relative error: 6.626916e-09\n",
      "numerical: 2.852573 analytic: 2.852573, relative error: 3.179922e-09\n"
     ]
    }
   ],
   "source": [
    "# Complete the implementation of softmax_loss_naive and implement a (naive)\n",
    "# version of the gradient that uses nested loops.\n",
    "loss, grad = softmax_loss_naive(W, X_dev, y_dev, 0.0)\n",
    "\n",
    "# As we did for the SVM, use numeric gradient checking as a debugging tool.\n",
    "# The numeric gradient should be close to the analytic gradient.\n",
    "from cs231n.gradient_check import grad_check_sparse\n",
    "f = lambda w: softmax_loss_naive(w, X_dev, y_dev, 0.0)[0]\n",
    "grad_numerical = grad_check_sparse(f, W, grad, 10)\n",
    "\n",
    "# similar to SVM case, do another gradient check with regularization\n",
    "loss, grad = softmax_loss_naive(W, X_dev, y_dev, 5e1)\n",
    "f = lambda w: softmax_loss_naive(w, X_dev, y_dev, 5e1)[0]\n",
    "grad_numerical = grad_check_sparse(f, W, grad, 10)"
   ]
  },
  {
   "cell_type": "code",
   "execution_count": 35,
   "metadata": {},
   "outputs": [
    {
     "name": "stdout",
     "output_type": "stream",
     "text": [
      "naive loss: 2.402241e+00 computed in 0.179732s\n",
      "vectorized loss: 2.402241e+00 computed in 0.008102s\n",
      "Loss difference: 0.000000\n",
      "Gradient difference: 0.000000\n"
     ]
    }
   ],
   "source": [
    "# Now that we have a naive implementation of the softmax loss function and its gradient,\n",
    "# implement a vectorized version in softmax_loss_vectorized.\n",
    "# The two versions should compute the same results, but the vectorized version should be\n",
    "# much faster.\n",
    "tic = time.time()\n",
    "loss_naive, grad_naive = softmax_loss_naive(W, X_dev, y_dev, 0.000005)\n",
    "toc = time.time()\n",
    "print('naive loss: %e computed in %fs' % (loss_naive, toc - tic))\n",
    "\n",
    "from cs231n.classifiers.softmax import softmax_loss_vectorized\n",
    "tic = time.time()\n",
    "loss_vectorized, grad_vectorized = softmax_loss_vectorized(W, X_dev, y_dev, 0.000005)\n",
    "toc = time.time()\n",
    "print('vectorized loss: %e computed in %fs' % (loss_vectorized, toc - tic))\n",
    "\n",
    "# As we did for the SVM, we use the Frobenius norm to compare the two versions\n",
    "# of the gradient.\n",
    "grad_difference = np.linalg.norm(grad_naive - grad_vectorized, ord='fro')\n",
    "print('Loss difference: %f' % np.abs(loss_naive - loss_vectorized))\n",
    "print('Gradient difference: %f' % grad_difference)"
   ]
  },
  {
   "cell_type": "code",
   "execution_count": 36,
   "metadata": {},
   "outputs": [
    {
     "name": "stdout",
     "output_type": "stream",
     "text": [
      "iteration 0 / 1500: loss 781.495530\n",
      "iteration 100 / 1500: loss 286.676367\n",
      "iteration 200 / 1500: loss 106.137306\n",
      "iteration 300 / 1500: loss 40.195274\n",
      "iteration 400 / 1500: loss 16.072699\n",
      "iteration 500 / 1500: loss 7.167914\n",
      "iteration 600 / 1500: loss 3.966727\n",
      "iteration 700 / 1500: loss 2.742922\n",
      "iteration 800 / 1500: loss 2.302376\n",
      "iteration 900 / 1500: loss 2.159657\n",
      "iteration 1000 / 1500: loss 2.178474\n",
      "iteration 1100 / 1500: loss 2.094456\n",
      "iteration 1200 / 1500: loss 2.136326\n",
      "iteration 1300 / 1500: loss 2.078986\n",
      "iteration 1400 / 1500: loss 2.075581\n",
      "iteration 0 / 1500: loss 1533.179599\n",
      "iteration 100 / 1500: loss 206.455709\n",
      "iteration 200 / 1500: loss 29.418413\n",
      "iteration 300 / 1500: loss 5.762188\n",
      "iteration 400 / 1500: loss 2.639868\n",
      "iteration 500 / 1500: loss 2.215987\n",
      "iteration 600 / 1500: loss 2.141950\n",
      "iteration 700 / 1500: loss 2.185616\n",
      "iteration 800 / 1500: loss 2.154462\n",
      "iteration 900 / 1500: loss 2.161926\n",
      "iteration 1000 / 1500: loss 2.179328\n",
      "iteration 1100 / 1500: loss 2.111831\n",
      "iteration 1200 / 1500: loss 2.156204\n",
      "iteration 1300 / 1500: loss 2.150732\n",
      "iteration 1400 / 1500: loss 2.076136\n",
      "iteration 0 / 1500: loss 775.558954\n",
      "iteration 100 / 1500: loss 6.938017\n",
      "iteration 200 / 1500: loss 2.088709\n",
      "iteration 300 / 1500: loss 2.092298\n",
      "iteration 400 / 1500: loss 2.139167\n",
      "iteration 500 / 1500: loss 2.126698\n",
      "iteration 600 / 1500: loss 2.096279\n",
      "iteration 700 / 1500: loss 2.116399\n",
      "iteration 800 / 1500: loss 2.098334\n",
      "iteration 900 / 1500: loss 2.047504\n",
      "iteration 1000 / 1500: loss 2.103352\n",
      "iteration 1100 / 1500: loss 2.076859\n",
      "iteration 1200 / 1500: loss 2.099126\n",
      "iteration 1300 / 1500: loss 2.122761\n",
      "iteration 1400 / 1500: loss 2.079619\n",
      "iteration 0 / 1500: loss 1548.580312\n",
      "iteration 100 / 1500: loss 2.209305\n",
      "iteration 200 / 1500: loss 2.173890\n",
      "iteration 300 / 1500: loss 2.150337\n",
      "iteration 400 / 1500: loss 2.137292\n",
      "iteration 500 / 1500: loss 2.122089\n",
      "iteration 600 / 1500: loss 2.103454\n",
      "iteration 700 / 1500: loss 2.163971\n",
      "iteration 800 / 1500: loss 2.150433\n",
      "iteration 900 / 1500: loss 2.145333\n",
      "iteration 1000 / 1500: loss 2.178201\n",
      "iteration 1100 / 1500: loss 2.152929\n",
      "iteration 1200 / 1500: loss 2.132603\n",
      "iteration 1300 / 1500: loss 2.158726\n",
      "iteration 1400 / 1500: loss 2.161446\n",
      "lr 1.000000e-07 reg 2.500000e+04 train accuracy: 0.329837 val accuracy: 0.347000\n",
      "lr 1.000000e-07 reg 5.000000e+04 train accuracy: 0.305245 val accuracy: 0.326000\n",
      "lr 5.000000e-07 reg 2.500000e+04 train accuracy: 0.316306 val accuracy: 0.319000\n",
      "lr 5.000000e-07 reg 5.000000e+04 train accuracy: 0.308286 val accuracy: 0.314000\n",
      "best validation accuracy achieved during cross-validation: 0.347000\n"
     ]
    }
   ],
   "source": [
    "# Use the validation set to tune hyperparameters (regularization strength and\n",
    "# learning rate). You should experiment with different ranges for the learning\n",
    "# rates and regularization strengths; if you are careful you should be able to\n",
    "# get a classification accuracy of over 0.35 on the validation set.\n",
    "from cs231n.classifiers import Softmax\n",
    "results = {}\n",
    "best_val = -1\n",
    "best_softmax = None\n",
    "learning_rates = [1e-7, 5e-7]\n",
    "regularization_strengths = [2.5e4, 5e4]\n",
    "\n",
    "################################################################################\n",
    "# TODO:                                                                        #\n",
    "# Use the validation set to set the learning rate and regularization strength. #\n",
    "# This should be identical to the validation that you did for the SVM; save    #\n",
    "# the best trained softmax classifer in best_softmax.                          #\n",
    "################################################################################\n",
    "for lr in learning_rates:\n",
    "    for reg in regularization_strengths:\n",
    "        soft = Softmax()\n",
    "        soft.train(X_train, y_train, learning_rate=lr, reg=reg,\n",
    "                      num_iters=1500, verbose=True)\n",
    "        y_train_pred = soft.predict(X_train)\n",
    "        train = np.mean(y_train == y_train_pred)\n",
    "        y_val_pred = soft.predict(X_val)\n",
    "        val = np.mean(y_val == y_val_pred)\n",
    "        results[(lr, reg)] = (train, val)\n",
    "        \n",
    "        if val > best_val:\n",
    "            best_val = val\n",
    "            best_softmax = soft\n",
    "################################################################################\n",
    "#                              END OF YOUR CODE                                #\n",
    "################################################################################\n",
    "    \n",
    "# Print out results.\n",
    "for lr, reg in sorted(results):\n",
    "    train_accuracy, val_accuracy = results[(lr, reg)]\n",
    "    print('lr %e reg %e train accuracy: %f val accuracy: %f' % (\n",
    "                lr, reg, train_accuracy, val_accuracy))\n",
    "    \n",
    "print('best validation accuracy achieved during cross-validation: %f' % best_val)"
   ]
  },
  {
   "cell_type": "code",
   "execution_count": 37,
   "metadata": {},
   "outputs": [
    {
     "name": "stdout",
     "output_type": "stream",
     "text": [
      "softmax on raw pixels final test set accuracy: 0.342000\n"
     ]
    }
   ],
   "source": [
    "# evaluate on test set\n",
    "# Evaluate the best softmax on test set\n",
    "y_test_pred = best_softmax.predict(X_test)\n",
    "test_accuracy = np.mean(y_test == y_test_pred)\n",
    "print('softmax on raw pixels final test set accuracy: %f' % (test_accuracy, ))"
   ]
  },
  {
   "cell_type": "code",
   "execution_count": 38,
   "metadata": {},
   "outputs": [
    {
     "data": {
      "image/png": "[encoded data removed]",
      "text/plain": [
       "<matplotlib.figure.Figure at 0x10f0ff438>"
      ]
     },
     "metadata": {},
     "output_type": "display_data"
    }
   ],
   "source": [
    "# Visualize the learned weights for each class\n",
    "w = best_softmax.W[:-1,:] # strip out the bias\n",
    "w = w.reshape(32, 32, 3, 10)\n",
    "\n",
    "w_min, w_max = np.min(w), np.max(w)\n",
    "\n",
    "classes = ['plane', 'car', 'bird', 'cat', 'deer', 'dog', 'frog', 'horse', 'ship', 'truck']\n",
    "for i in range(10):\n",
    "    plt.subplot(2, 5, i + 1)\n",
    "    \n",
    "    # Rescale the weights to be between 0 and 255\n",
    "    wimg = 255.0 * (w[:, :, :, i].squeeze() - w_min) / (w_max - w_min)\n",
    "    plt.imshow(wimg.astype('uint8'))\n",
    "    plt.axis('off')\n",
    "    plt.title(classes[i])"
   ]
  },
  {
   "cell_type": "code",
   "execution_count": null,
   "metadata": {
    "collapsed": true
   },
   "outputs": [],
   "source": []
  }
 ],
 "metadata": {
  "kernelspec": {
   "display_name": "Python 3",
   "language": "python",
   "name": "python3"
  },
  "language_info": {
   "codemirror_mode": {
    "name": "ipython",
    "version": 3
   },
   "file_extension": ".py",
   "mimetype": "text/x-python",
   "name": "python",
   "nbconvert_exporter": "python",
   "pygments_lexer": "ipython3",
   "version": "3.6.1"
  }
 },
 "nbformat": 4,
 "nbformat_minor": 1
}
